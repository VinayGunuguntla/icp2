{
  "nbformat": 4,
  "nbformat_minor": 0,
  "metadata": {
    "colab": {
      "provenance": []
    },
    "kernelspec": {
      "name": "python3",
      "display_name": "Python 3"
    },
    "language_info": {
      "name": "python"
    }
  },
  "cells": [
    {
      "cell_type": "code",
      "execution_count": null,
      "metadata": {
        "colab": {
          "base_uri": "https://localhost:8080/"
        },
        "id": "DaXq2Ow_gJhe",
        "outputId": "7f4a74d8-e0ac-44fd-f7a7-4f7b13768bd8"
      },
      "outputs": [
        {
          "output_type": "stream",
          "name": "stdout",
          "text": [
            "Enter your first name:/nVinay Kumar Reddy\n",
            "Enter your last name:/nGunuguntla\n",
            "Vinay Kumar Reddy Gunuguntla\n"
          ]
        }
      ],
      "source": [
        "# Write a program that takes two strings from the user: first_name, last_name. Pass these variables to fullname function that should return the (full name)\n",
        "\n",
        "def Full_name(first_name=\"first name\",last_name='last name'):# Here i have created Full name method by passing arguments first name and last name\n",
        "    return first_name+' '+last_name # Here i have conacatinted both first name and last name which i have returned it as a string to the function\n",
        "first_name=input(\"Enter your first name:/n\")# Used input function to accept a string from the user and stored in a variable\n",
        "last_name=input(\"Enter your last name:/n\")\n",
        "full_name=Full_name(first_name,last_name)#passed variables to the function\n",
        "print(full_name)"
      ]
    },
    {
      "cell_type": "code",
      "source": [
        "# Write function named “string_alternative” that returns every other char in the full_name string.\n",
        "# Str = “Good evening”\n",
        "\n",
        "def string_alternative(string):\n",
        "    o=''\n",
        "    for i in range(0,len(string)):#Here i am iterating the string from 0 to the lenght of the string\n",
        "        if(i%2==0):#Here i am taking each character and doing modulus with and equating to 0 so that we can get the all the alternate characters in the string\n",
        "            o=o+string[i]# Here i am adding empty string to the list of characters according the index so that we can return the string and then print it.\n",
        "    return o\n",
        "string_alternative('Good evening')#called the function by passing \"Good Evening\" as a string."
      ],
      "metadata": {
        "colab": {
          "base_uri": "https://localhost:8080/",
          "height": 36
        },
        "id": "PboOJ_8Xg0yB",
        "outputId": "49a7dcce-1063-4466-ee1f-92d39b53089a"
      },
      "execution_count": 26,
      "outputs": [
        {
          "output_type": "execute_result",
          "data": {
            "text/plain": [
              "'Go vnn'"
            ],
            "application/vnd.google.colaboratory.intrinsic+json": {
              "type": "string"
            }
          },
          "metadata": {},
          "execution_count": 26
        }
      ]
    },
    {
      "cell_type": "code",
      "source": [
        "with open('/content/sample_data/‌input_file.txt','r') as ipf:#created a file named input_file and used read and split functions to read the file and split the words into several words as per the question\n",
        "    line=ipf.read()\n",
        "    word=line.split()\n",
        "    with open('output_file.txt','w') as opf:\n",
        "        for i in word: # Here i have iterated through word variable where the split of words are returned\n",
        "            opf.write(i+':'+str(word.count(i))+'\\n')\n",
        "opf=open('output_file.txt','r')\n",
        "print(opf.read())"
      ],
      "metadata": {
        "colab": {
          "base_uri": "https://localhost:8080/"
        },
        "id": "HraJZCNOKyFa",
        "outputId": "ea191ab5-9129-43f2-fe11-d1d01d793e8e"
      },
      "execution_count": 28,
      "outputs": [
        {
          "output_type": "stream",
          "name": "stdout",
          "text": [
            "Python:1\n",
            "Course:2\n",
            "Deep:1\n",
            "Learning:1\n",
            "Course:2\n",
            "\n"
          ]
        }
      ]
    },
    {
      "cell_type": "code",
      "source": [
        "#Write a program, which reads heights (inches.) of customers into a list and convert these heights to centimeters in a separate list using:\n",
        "# 1) Nested Interactive loop.\n",
        "# 2) List comprehensions\n",
        "heights=[]# Empty List\n",
        "while True:\n",
        "    x=float(input())\n",
        "    if(x<=0):\n",
        "        break\n",
        "    heights.append(x)#this is in inches\n",
        "    output=[x*2.54 for x in heights]\n",
        "print(output)#this is in cm"
      ],
      "metadata": {
        "colab": {
          "base_uri": "https://localhost:8080/"
        },
        "id": "wFHfOTPQXPD7",
        "outputId": "7b98ca1b-c4aa-48c8-e726-904281a05ac5"
      },
      "execution_count": 32,
      "outputs": [
        {
          "output_type": "stream",
          "name": "stdout",
          "text": [
            "6\n",
            "4\n",
            "3\n",
            "2\n",
            "0\n",
            "[15.24, 10.16, 7.62, 5.08]\n"
          ]
        }
      ]
    }
  ]
}